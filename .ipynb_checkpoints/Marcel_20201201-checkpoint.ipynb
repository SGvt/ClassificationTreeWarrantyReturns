{
 "cells": [
  {
   "cell_type": "markdown",
   "metadata": {},
   "source": [
    "<font size=\"6\"><b>Decision Tree applied to a practical Business Case</b></font>"
   ]
  },
  {
   "cell_type": "markdown",
   "metadata": {},
   "source": [
    "<img caption=\"Business Process\" src=\"Illustrations/roughsea2.jpg\" style=\"width: auto; height: 500px;\" align=\"center\" > "
   ]
  },
  {
   "cell_type": "markdown",
   "metadata": {},
   "source": [
    "# Introduction\n",
    "\n",
    "If the goal here is not to discuss the different ways to approach After-Sales strategy, it nonetheless seemed interesting to contextualize the business case in order to give this matter its full depth.\n",
    "\n",
    "<img caption=\"Business Process\" src=\"Illustrations/BusinessProcess.png\" style=\"width: auto; height: 250px;\" align=\"right\" > \n",
    "<font size=\"3\"><b>After-Sales support, a marketing tool in itself</b></font><br>\n",
    "Sometimes neglected, the After-Sales Support can (should?) be an integrated part of the Company’s overall marketing strategy. The quality of a company’s After-Sales service can be decisive in the consumer buying process also referred to as consumer buying cycle. A performant after-sales support can result in an increased brand loyalty and positive word-of-mouth to name just a few.\n",
    "\n",
    "<font size=\"3\"><b>Warranty returns and subsequent actions</b></font><br>\n",
    "One aspect of the after-sale support is dealing with warranty returns. Depending on the industry sector and company’s warranty policy, those returns can have different issues. Replacement, repair or buying a new product at a discounted rate are among the most common solutions offered to customers. Choosing between these issues can be a complicated and tedious process depending on the type of product and scenarios.\n",
    "\n",
    "\n",
    "\n",
    "\n"
   ]
  },
  {
   "cell_type": "markdown",
   "metadata": {},
   "source": [
    "\n",
    "<font size=\"3\"><b>A decision-making process prone to variations</b></font><br>\n",
    "Usually a representative is responsible for selecting the most appropriate offer .and involves different criteria. Some are intrinsic to the case presented (i.e. features of the product, context, …) some are tied to the individual who’s processing the case (i.e. subjectivity, level of awareness, …). The later introduces a form of bias that can result in important variations in the way cases are handled by agents.\n",
    "\n",
    "<img caption=\"Business Process\" src=\"Illustrations/WarrantyReturnsScenario.png\" style=\"width: auto; height: 300px;\" align=\"center\" > "
   ]
  },
  {
   "cell_type": "markdown",
   "metadata": {},
   "source": [
    "<font size=\"3\"><b>Bias reduction</b></font><br>\n",
    "Training and experience are two parameters that tend to reduce this bias. Training easy to manage for a company and if well designed can also steepen representatives’ learning curve and having them reaching their optimum efficiency earlier providing that they stay in the role long enough…\n",
    "\n",
    "<img caption=\"Business Process\" src=\"Illustrations/LearningCurveCircle.png\" style=\"width: auto; height: 400px;\" align=\"right\" > \n",
    "\n",
    "<font size=\"3\"><b>Turnover rate the snag</b></font><br> \n",
    "Unfortunately, another parameter comes into play and throws sands into the machine: turnover rate. Customer Service Representative roles are linked to a very high turnover rate, despite all the efforts made by companies to limit it, it seems that this is inherent to the role and this issue can grow exponentially depending on how big the company is. \n",
    "\n",
    "According to the 2016 US Contact Center Decision Makers’ Guide (ContactBabel.com) the Average Annual Turnover Rate for a Customer Service Representative (CSR) was in average 27% in North America. This number varies by industry sector and ranges from a low 21% in the Financial Service Sector to a higher 53% for the Third-Party Teleservices Providers.\n",
    "\n",
    "A question now arises: <b> “What can be done to unify as much as possible the company’s voice providing the bias introduced by individuals and high turnover rate?”</b>\n",
    "\n",
    "\n",
    "\n"
   ]
  },
  {
   "cell_type": "markdown",
   "metadata": {},
   "source": [
    "<img caption=\"Grey Area\" src=\"Illustrations/customerfocus.jpg\" style=\"width: auto; height: 350px;\" align=\"left\"> \n",
    "\n",
    "<font size=\"3\"><b>Decision Tree to the rescue</b></font><br>\n",
    "A potential avenue would be assisting the decision-making process. A multitude of tools are available, here we are going to focus on one: Decision Trees. One big advantage of Decision Trees is their “transparency”. Decision Trees are sometimes referred to as White-Box models because it is easy to explain how they behave. You can learn more about decision trees here.\n",
    "\n",
    "\n",
    "\n",
    "<font size=\"3\"><b>Re-focusing on Customer Experience</b></font><br>\n",
    "On top of minimizing the impact of time/experience on the Company’s Voice, assisting the decision-making process would also reduce the stress factor linked to the action of making a decision and improve the overall efficiency and robustness of the workflow. As a result, customer service representatives will be able to refocus on communication and ultimately contribute to reinforcing customer relationships by elevating their experience with the Brand.\n",
    "\n",
    "\n",
    "\n",
    "\n",
    "\n"
   ]
  },
  {
   "cell_type": "markdown",
   "metadata": {},
   "source": [
    "# Forewords"
   ]
  },
  {
   "cell_type": "markdown",
   "metadata": {},
   "source": [
    "Presentation of the raw data\n",
    "Part of the project focused on creating decision tree, assumen data cleaning already done\n",
    "normalization of the data done, data are structured each features has been noramlized\n",
    "\n",
    "discrepency identified on a jacket list \n",
    "then broken down into 3 family ansering business logic \n",
    "failure of the fabric\n",
    "farbic torn by external factors\n",
    "zipper failure\n",
    "construction on the garment issue"
   ]
  },
  {
   "cell_type": "markdown",
   "metadata": {},
   "source": [
    "Outdoors apparel industry\n",
    "present quickly the data aquisition process\n",
    " like a rep check a garment and follow a series a questions \n",
    " "
   ]
  },
  {
   "cell_type": "markdown",
   "metadata": {},
   "source": [
    "# Dataset Overview"
   ]
  },
  {
   "cell_type": "code",
   "execution_count": 14,
   "metadata": {},
   "outputs": [
    {
     "data": {
      "text/html": [
       "<div>\n",
       "<style scoped>\n",
       "    .dataframe tbody tr th:only-of-type {\n",
       "        vertical-align: middle;\n",
       "    }\n",
       "\n",
       "    .dataframe tbody tr th {\n",
       "        vertical-align: top;\n",
       "    }\n",
       "\n",
       "    .dataframe thead th {\n",
       "        text-align: right;\n",
       "    }\n",
       "</style>\n",
       "<table border=\"1\" class=\"dataframe\">\n",
       "  <thead>\n",
       "    <tr style=\"text-align: right;\">\n",
       "      <th></th>\n",
       "      <th>Column1</th>\n",
       "      <th>Date</th>\n",
       "      <th>Case Number</th>\n",
       "      <th>Language</th>\n",
       "      <th>Country</th>\n",
       "      <th>Repairability Index</th>\n",
       "      <th>Size</th>\n",
       "      <th>Model name</th>\n",
       "      <th>Year</th>\n",
       "      <th>General condition</th>\n",
       "      <th>...</th>\n",
       "      <th>Known_issue</th>\n",
       "      <th>Repair solution</th>\n",
       "      <th>Repair Threshold</th>\n",
       "      <th>Customer Offer</th>\n",
       "      <th>Product_type</th>\n",
       "      <th>reasonofissue</th>\n",
       "      <th>Age</th>\n",
       "      <th>Repair Threshold Status</th>\n",
       "      <th>typeoffailure</th>\n",
       "      <th>misusetype</th>\n",
       "    </tr>\n",
       "  </thead>\n",
       "  <tbody>\n",
       "    <tr>\n",
       "      <th>0</th>\n",
       "      <td>153</td>\n",
       "      <td>11/18/19</td>\n",
       "      <td>706419</td>\n",
       "      <td>EN</td>\n",
       "      <td>Australia</td>\n",
       "      <td>10</td>\n",
       "      <td>S</td>\n",
       "      <td>Atlantis ar jacket men</td>\n",
       "      <td>2018</td>\n",
       "      <td>2_Good</td>\n",
       "      <td>...</td>\n",
       "      <td>No</td>\n",
       "      <td>No</td>\n",
       "      <td>3</td>\n",
       "      <td>Replacement</td>\n",
       "      <td>shell</td>\n",
       "      <td>misuse</td>\n",
       "      <td>1</td>\n",
       "      <td>below</td>\n",
       "      <td>nofailure</td>\n",
       "      <td>damaged</td>\n",
       "    </tr>\n",
       "    <tr>\n",
       "      <th>1</th>\n",
       "      <td>221</td>\n",
       "      <td>11/26/19</td>\n",
       "      <td>123456</td>\n",
       "      <td>EN</td>\n",
       "      <td>Australia</td>\n",
       "      <td>10</td>\n",
       "      <td>S</td>\n",
       "      <td>Atlantis ar jacket men</td>\n",
       "      <td>2016</td>\n",
       "      <td>2_Good</td>\n",
       "      <td>...</td>\n",
       "      <td>No</td>\n",
       "      <td>Yes</td>\n",
       "      <td>5</td>\n",
       "      <td>Repair</td>\n",
       "      <td>shell</td>\n",
       "      <td>manufacturing_issue</td>\n",
       "      <td>3</td>\n",
       "      <td>below</td>\n",
       "      <td>construction_failure</td>\n",
       "      <td>notmisused</td>\n",
       "    </tr>\n",
       "    <tr>\n",
       "      <th>2</th>\n",
       "      <td>437</td>\n",
       "      <td>1/3/20</td>\n",
       "      <td>727045</td>\n",
       "      <td>EN</td>\n",
       "      <td>Australia</td>\n",
       "      <td>10</td>\n",
       "      <td>S</td>\n",
       "      <td>Lazarev jacket women</td>\n",
       "      <td>2014</td>\n",
       "      <td>2_Good</td>\n",
       "      <td>...</td>\n",
       "      <td>No</td>\n",
       "      <td>Yes</td>\n",
       "      <td>4</td>\n",
       "      <td>Repair</td>\n",
       "      <td>shell</td>\n",
       "      <td>manufacturing_issue</td>\n",
       "      <td>6</td>\n",
       "      <td>below</td>\n",
       "      <td>construction_failure</td>\n",
       "      <td>notmisused</td>\n",
       "    </tr>\n",
       "    <tr>\n",
       "      <th>3</th>\n",
       "      <td>376</td>\n",
       "      <td>1/22/20</td>\n",
       "      <td>718354</td>\n",
       "      <td>EN</td>\n",
       "      <td>Australia</td>\n",
       "      <td>2</td>\n",
       "      <td>XL</td>\n",
       "      <td>Atlantis ar jacket men</td>\n",
       "      <td>2015</td>\n",
       "      <td>2_Good</td>\n",
       "      <td>...</td>\n",
       "      <td>No</td>\n",
       "      <td>Yes</td>\n",
       "      <td>4</td>\n",
       "      <td>Repair</td>\n",
       "      <td>shell</td>\n",
       "      <td>manufacturing_issue</td>\n",
       "      <td>5</td>\n",
       "      <td>above</td>\n",
       "      <td>construction_failure</td>\n",
       "      <td>notmisused</td>\n",
       "    </tr>\n",
       "    <tr>\n",
       "      <th>4</th>\n",
       "      <td>449</td>\n",
       "      <td>1/6/20</td>\n",
       "      <td>730632</td>\n",
       "      <td>EN</td>\n",
       "      <td>Australia</td>\n",
       "      <td>10</td>\n",
       "      <td>L</td>\n",
       "      <td>Atlantis ar jacket men</td>\n",
       "      <td>2011</td>\n",
       "      <td>2_Good</td>\n",
       "      <td>...</td>\n",
       "      <td>No</td>\n",
       "      <td>Yes</td>\n",
       "      <td>4</td>\n",
       "      <td>Repair</td>\n",
       "      <td>shell</td>\n",
       "      <td>manufacturing_issueANDmisuse</td>\n",
       "      <td>9</td>\n",
       "      <td>below</td>\n",
       "      <td>construction_failure</td>\n",
       "      <td>damaged</td>\n",
       "    </tr>\n",
       "  </tbody>\n",
       "</table>\n",
       "<p>5 rows × 50 columns</p>\n",
       "</div>"
      ],
      "text/plain": [
       "   Column1      Date  Case Number Language    Country  Repairability Index  \\\n",
       "0      153  11/18/19       706419       EN  Australia                   10   \n",
       "1      221  11/26/19       123456       EN  Australia                   10   \n",
       "2      437    1/3/20       727045       EN  Australia                   10   \n",
       "3      376   1/22/20       718354       EN  Australia                    2   \n",
       "4      449    1/6/20       730632       EN  Australia                   10   \n",
       "\n",
       "  Size              Model name  Year General condition  ... Known_issue  \\\n",
       "0    S  Atlantis ar jacket men  2018            2_Good  ...          No   \n",
       "1    S  Atlantis ar jacket men  2016            2_Good  ...          No   \n",
       "2    S    Lazarev jacket women  2014            2_Good  ...          No   \n",
       "3   XL  Atlantis ar jacket men  2015            2_Good  ...          No   \n",
       "4    L  Atlantis ar jacket men  2011            2_Good  ...          No   \n",
       "\n",
       "  Repair solution Repair Threshold Customer Offer Product_type  \\\n",
       "0              No                3    Replacement        shell   \n",
       "1             Yes                5         Repair        shell   \n",
       "2             Yes                4         Repair        shell   \n",
       "3             Yes                4         Repair        shell   \n",
       "4             Yes                4         Repair        shell   \n",
       "\n",
       "                  reasonofissue Age Repair Threshold Status  \\\n",
       "0                        misuse   1                   below   \n",
       "1           manufacturing_issue   3                   below   \n",
       "2           manufacturing_issue   6                   below   \n",
       "3           manufacturing_issue   5                   above   \n",
       "4  manufacturing_issueANDmisuse   9                   below   \n",
       "\n",
       "          typeoffailure  misusetype  \n",
       "0             nofailure     damaged  \n",
       "1  construction_failure  notmisused  \n",
       "2  construction_failure  notmisused  \n",
       "3  construction_failure  notmisused  \n",
       "4  construction_failure     damaged  \n",
       "\n",
       "[5 rows x 50 columns]"
      ]
     },
     "execution_count": 14,
     "metadata": {},
     "output_type": "execute_result"
    }
   ],
   "source": [
    "import pandas as pd\n",
    "df = pd.read_csv(\"/Users/sebastiengrandvallet/Google Drive/3.RemDesk/ArcSess/ArcSess_Phase2/RawData.csv\", delimiter=';')\n",
    "df.head()\n"
   ]
  },
  {
   "cell_type": "code",
   "execution_count": 15,
   "metadata": {},
   "outputs": [
    {
     "name": "stdout",
     "output_type": "stream",
     "text": [
      "<class 'pandas.core.frame.DataFrame'>\n",
      "RangeIndex: 727 entries, 0 to 726\n",
      "Data columns (total 50 columns):\n",
      "Column1                                             727 non-null int64\n",
      "Date                                                727 non-null object\n",
      "Case Number                                         727 non-null int64\n",
      "Language                                            727 non-null object\n",
      "Country                                             727 non-null object\n",
      "Repairability Index                                 727 non-null int64\n",
      "Size                                                727 non-null object\n",
      "Model name                                          727 non-null object\n",
      "Year                                                727 non-null int64\n",
      "General condition                                   727 non-null object\n",
      "Wash                                                727 non-null object\n",
      "Fabric                                              727 non-null object\n",
      "Fabric failure - Membrane delamination              228 non-null object\n",
      "Fabric failure - Leak through                       16 non-null object\n",
      "Fabric failure - Wetting out                        5 non-null object\n",
      "Fabric failure - Down leakage                       21 non-null object\n",
      "Fabric failure - Fading                             3 non-null object\n",
      "Fabric failure - Pilling                            5 non-null object\n",
      "Fabric torn - Rips - Patchable                      13 non-null object\n",
      "Fabric torn - Rips - Not patchable - 1 panel        88 non-null object\n",
      "Fabric torn - Rips - Not patchable - X panels       32 non-null object\n",
      "Fabric torn - Abrasion - Light                      58 non-null object\n",
      "Fabric torn - Abrasion - Heavy - 1 panel            34 non-null object\n",
      "Fabric torn - Abrasion - Heavy - X panels           13 non-null object\n",
      "Fabric torn - Burn - Patchable -                    0 non-null float64\n",
      "Fabric torn - Burn - Not patchable - 1 panel        12 non-null object\n",
      "Fabric torn - Burn - Not patchable - X panels       2 non-null object\n",
      "Fabric torn - Stain                                 51 non-null object\n",
      "Fabric torn - Membrane contamination - Light        49 non-null object\n",
      "Fabric torn - Membrane contamination - Heavy        63 non-null object\n",
      "Zipper failure - Zipper structureMain               203 non-null object\n",
      "Zipper failure - Zipper structureAll except main    26 non-null object\n",
      "Zipper failure - Zipper slider                      80 non-null object\n",
      "Delamination - Press                                334 non-null object\n",
      "Delamination - 70D Nylon                            329 non-null object\n",
      "Delamination - Seam tape                            292 non-null object\n",
      "Seam failure - Seam sewn non-WBW Membrane           24 non-null object\n",
      "Delamination - Seam sewn WBW Membrane               2 non-null object\n",
      "Delamination - Seam laminated                       0 non-null float64\n",
      "Other - Buckle                                      16 non-null object\n",
      "Known_issue                                         727 non-null object\n",
      "Repair solution                                     727 non-null object\n",
      "Repair Threshold                                    727 non-null int64\n",
      "Customer Offer                                      727 non-null object\n",
      "Product_type                                        727 non-null object\n",
      "reasonofissue                                       725 non-null object\n",
      "Age                                                 727 non-null int64\n",
      "Repair Threshold Status                             727 non-null object\n",
      "typeoffailure                                       727 non-null object\n",
      "misusetype                                          727 non-null object\n",
      "dtypes: float64(2), int64(6), object(42)\n",
      "memory usage: 284.1+ KB\n"
     ]
    }
   ],
   "source": [
    "df.info()"
   ]
  },
  {
   "cell_type": "markdown",
   "metadata": {},
   "source": [
    "<b>Observations</b><br>\n",
    "dataset composed of 727 entries\n",
    "\n",
    "see how distribution of resolution solution \n",
    "\n"
   ]
  },
  {
   "cell_type": "code",
   "execution_count": 11,
   "metadata": {},
   "outputs": [
    {
     "name": "stdout",
     "output_type": "stream",
     "text": [
      "- There are 4 different solutions proposed to customers.\n",
      " \n",
      "\t- These are: ['Replacement' 'Repair' '50% Discount' '30% Discount'] \n",
      "\n",
      "- The data set has 727 records and each of them has a solution: True\n",
      "\n",
      "\n",
      "\n"
     ]
    }
   ],
   "source": [
    "solutioncsr = df['Customer Offer'].unique()\n",
    "numberofsolution = len(solutioncsr)\n",
    "numberofrecords = len(df['Case Number'])\n",
    "solutionforwarranty = len(df['Customer Offer'])==len(df['Case Number'])\n",
    "\n",
    "print(\"\"\"- There are %d different solutions proposed to customers.\\n \n",
    "\\t- These are: %s \\n\n",
    "- The data set has %d records and each of them has a solution: %s\n",
    "\n",
    "\n",
    "\"\"\" %(numberofsolution, solutioncsr, numberofrecords, solutionforwarranty))"
   ]
  },
  {
   "cell_type": "markdown",
   "metadata": {},
   "source": [
    "first interesting in knowing what are all the possible offers made\n",
    "there are 4 type of offers possible:\n",
    "replace\n",
    "Warranty special offer \n",
    "repair\n",
    "replace at cost of repair\n",
    "\n",
    "Let's see on these different solutions are distributed accross the 727 entries."
   ]
  },
  {
   "cell_type": "code",
   "execution_count": 20,
   "metadata": {},
   "outputs": [
    {
     "data": {
      "image/png": "[encoded data removed]",
      "text/plain": [
       "<Figure size 1080x1080 with 4 Axes>"
      ]
     },
     "metadata": {
      "needs_background": "light"
     },
     "output_type": "display_data"
    }
   ],
   "source": [
    "import matplotlib.pyplot as plt\n",
    "\n",
    "resolution = df.groupby(\"Customer Offer\")[\"Case Number\"].count()/df[\"Case Number\"].count()*100\n",
    "age = df.groupby(\"Age\")[\"Case Number\"].count()/df[\"Case Number\"].count()*100\n",
    "fabric=df.groupby(\"Fabric\")[\"Case Number\"].count()/df[\"Case Number\"].count()*100\n",
    "country=df.groupby(\"Country\")[\"Case Number\"].count()/df[\"Case Number\"].count()*100\n",
    "\n",
    "fig, ax = plt.subplots(2,2, figsize =[15,15])\n",
    "ax[0,0].pie(resolution, labels=resolution.index, shadow=True, startangle=90, autopct='%1.1f%%')\n",
    "ax[0,1].bar(age.index, age)\n",
    "ax[1,0].pie(fabric, labels=fabric.index, shadow=True, startangle=90, autopct='%1.1f%%')\n",
    "ax[1,1].pie(country, labels=country.index, shadow=True, startangle=90, autopct='%1.1f%%')\n",
    "\n",
    "ax[0,0].set_title('Customer Offer')\n",
    "ax[0,1].set_title('Product Age')\n",
    "ax[1,0].set_title('Type of Fabric')\n",
    "ax[1,1].set_title('Warranty Country of Origin')\n",
    "\n",
    "\n",
    "plt.show()\n"
   ]
  },
  {
   "cell_type": "markdown",
   "metadata": {},
   "source": [
    "The visual above give us a first understanding of the data we are dealing with. In order to make the problem easiy to udnerstand we have translated some of the features into business rules. the purpose of the study here is not to understand the business rules but to apply use to business rules to aplly CART algo.\n",
    "\n",
    "The basic idea behind the concept of business rules is that the notion of accountability has been embeded in the features that composed the trouble shooting. \n",
    "By grouping  them, we can identify accountability, basically, the failure on the product can be due to either a manufacturing issue, a misuse or both.\n",
    "\n",
    "\n",
    "Another feature has been added in order to add further context to the concepts of misuse and type of failure. \n",
    "\n",
    "\n"
   ]
  },
  {
   "cell_type": "code",
   "execution_count": 24,
   "metadata": {},
   "outputs": [
    {
     "data": {
      "image/png": "[encoded data removed]",
      "text/plain": [
       "<Figure size 1080x1080 with 4 Axes>"
      ]
     },
     "metadata": {
      "needs_background": "light"
     },
     "output_type": "display_data"
    }
   ],
   "source": [
    "\n",
    "reasonofissue=df.groupby(\"reasonofissue\")[\"Case Number\"].count()/df[\"Case Number\"].count()*100\n",
    "typeoffailure=df.groupby(\"typeoffailure\")[\"Case Number\"].count()/df[\"Case Number\"].count()*100\n",
    "misusetype=df.groupby(\"misusetype\")[\"Case Number\"].count()/df[\"Case Number\"].count()*100\n",
    "\n",
    "fig,ax = plt.subplots(2,2,figsize=[15,15])\n",
    "ax[0,0].pie(reasonofissue, labels=reasonofissue.index, shadow=True, startangle=90, autopct='%1.1f%%')\n",
    "ax[0,1].pie(typeoffailure, labels=typeoffailure.index, shadow=True, startangle=90, autopct='%1.1f%%')\n",
    "ax[1,0].pie(misusetype, labels=misusetype.index, shadow=True, startangle=90, autopct='%1.1f%%')\n",
    "ax[1,1].axis('off')\n",
    "\n",
    "ax[0,0].set_title('Reason of Issue')\n",
    "ax[0,1].set_title('Type of Failure')\n",
    "ax[1,0].set_title('Type of Misuse')\n",
    "\n",
    "\n",
    "plt.show()\n"
   ]
  },
  {
   "cell_type": "markdown",
   "metadata": {},
   "source": [
    "Field involve in the decision making process are:\n",
    "Discrepency oserve on the garment:\n",
    "\n",
    "<img caption=\"Grey Area\" src=\"GreyArea.png\" style=\"width: auto; height: 300px;\" align=\"left\" > \n",
    "\n"
   ]
  },
  {
   "cell_type": "markdown",
   "metadata": {},
   "source": [
    "# Decision Tree"
   ]
  },
  {
   "cell_type": "markdown",
   "metadata": {},
   "source": [
    "## Pre-Processing\n",
    "The majority of the features our decision tree will be based on are categorical variables. Some are nominal some ordinal. Unfortunatelly, the DecisionTreeClassifier function only understands  numerical variables. \n",
    "\n",
    "The workaround is to translate the categorical variables into numerical.\n",
    "\n",
    "For the features we use a method called <b>Dummy Encoding</b> or <b>One Hot Encoding</b>. This creates a binary vector for each unique value of the initial variables encoded.\n",
    "\n",
    "For the target variables, In this case we want our target vriable to be in the form of one vectore to that end, we use a slightly different method called Label Encoding.  each label is assigned a unique integer based on alphabetical ordering.\n",
    "\n"
   ]
  },
  {
   "cell_type": "code",
   "execution_count": 27,
   "metadata": {},
   "outputs": [
    {
     "data": {
      "text/html": [
       "<div>\n",
       "<style scoped>\n",
       "    .dataframe tbody tr th:only-of-type {\n",
       "        vertical-align: middle;\n",
       "    }\n",
       "\n",
       "    .dataframe tbody tr th {\n",
       "        vertical-align: top;\n",
       "    }\n",
       "\n",
       "    .dataframe thead th {\n",
       "        text-align: right;\n",
       "    }\n",
       "</style>\n",
       "<table border=\"1\" class=\"dataframe\">\n",
       "  <thead>\n",
       "    <tr style=\"text-align: right;\">\n",
       "      <th></th>\n",
       "      <th>Column1</th>\n",
       "      <th>Date</th>\n",
       "      <th>Case Number</th>\n",
       "      <th>Language</th>\n",
       "      <th>Country</th>\n",
       "      <th>Repairability Index</th>\n",
       "      <th>Size</th>\n",
       "      <th>Model name</th>\n",
       "      <th>Year</th>\n",
       "      <th>General condition</th>\n",
       "      <th>...</th>\n",
       "      <th>typeoffailure_fabric_failureANDconstruction_failure</th>\n",
       "      <th>typeoffailure_nofailure</th>\n",
       "      <th>misusetype_contaminated</th>\n",
       "      <th>misusetype_damaged</th>\n",
       "      <th>misusetype_damagedandcontaminated</th>\n",
       "      <th>misusetype_notmisused</th>\n",
       "      <th>Fabric_Down Loft</th>\n",
       "      <th>Fabric_K Fleece</th>\n",
       "      <th>Fabric_WBW 2L Membrane</th>\n",
       "      <th>Fabric_WBW 3L Membrane</th>\n",
       "    </tr>\n",
       "  </thead>\n",
       "  <tbody>\n",
       "    <tr>\n",
       "      <th>0</th>\n",
       "      <td>153</td>\n",
       "      <td>11/18/19</td>\n",
       "      <td>706419</td>\n",
       "      <td>EN</td>\n",
       "      <td>Australia</td>\n",
       "      <td>10</td>\n",
       "      <td>S</td>\n",
       "      <td>Atlantis ar jacket men</td>\n",
       "      <td>2018</td>\n",
       "      <td>2_Good</td>\n",
       "      <td>...</td>\n",
       "      <td>0</td>\n",
       "      <td>1</td>\n",
       "      <td>0</td>\n",
       "      <td>1</td>\n",
       "      <td>0</td>\n",
       "      <td>0</td>\n",
       "      <td>0</td>\n",
       "      <td>0</td>\n",
       "      <td>0</td>\n",
       "      <td>1</td>\n",
       "    </tr>\n",
       "    <tr>\n",
       "      <th>1</th>\n",
       "      <td>221</td>\n",
       "      <td>11/26/19</td>\n",
       "      <td>123456</td>\n",
       "      <td>EN</td>\n",
       "      <td>Australia</td>\n",
       "      <td>10</td>\n",
       "      <td>S</td>\n",
       "      <td>Atlantis ar jacket men</td>\n",
       "      <td>2016</td>\n",
       "      <td>2_Good</td>\n",
       "      <td>...</td>\n",
       "      <td>0</td>\n",
       "      <td>0</td>\n",
       "      <td>0</td>\n",
       "      <td>0</td>\n",
       "      <td>0</td>\n",
       "      <td>1</td>\n",
       "      <td>0</td>\n",
       "      <td>0</td>\n",
       "      <td>0</td>\n",
       "      <td>1</td>\n",
       "    </tr>\n",
       "    <tr>\n",
       "      <th>2</th>\n",
       "      <td>437</td>\n",
       "      <td>1/3/20</td>\n",
       "      <td>727045</td>\n",
       "      <td>EN</td>\n",
       "      <td>Australia</td>\n",
       "      <td>10</td>\n",
       "      <td>S</td>\n",
       "      <td>Lazarev jacket women</td>\n",
       "      <td>2014</td>\n",
       "      <td>2_Good</td>\n",
       "      <td>...</td>\n",
       "      <td>0</td>\n",
       "      <td>0</td>\n",
       "      <td>0</td>\n",
       "      <td>0</td>\n",
       "      <td>0</td>\n",
       "      <td>1</td>\n",
       "      <td>0</td>\n",
       "      <td>0</td>\n",
       "      <td>0</td>\n",
       "      <td>1</td>\n",
       "    </tr>\n",
       "    <tr>\n",
       "      <th>3</th>\n",
       "      <td>376</td>\n",
       "      <td>1/22/20</td>\n",
       "      <td>718354</td>\n",
       "      <td>EN</td>\n",
       "      <td>Australia</td>\n",
       "      <td>2</td>\n",
       "      <td>XL</td>\n",
       "      <td>Atlantis ar jacket men</td>\n",
       "      <td>2015</td>\n",
       "      <td>2_Good</td>\n",
       "      <td>...</td>\n",
       "      <td>0</td>\n",
       "      <td>0</td>\n",
       "      <td>0</td>\n",
       "      <td>0</td>\n",
       "      <td>0</td>\n",
       "      <td>1</td>\n",
       "      <td>0</td>\n",
       "      <td>0</td>\n",
       "      <td>0</td>\n",
       "      <td>1</td>\n",
       "    </tr>\n",
       "    <tr>\n",
       "      <th>4</th>\n",
       "      <td>449</td>\n",
       "      <td>1/6/20</td>\n",
       "      <td>730632</td>\n",
       "      <td>EN</td>\n",
       "      <td>Australia</td>\n",
       "      <td>10</td>\n",
       "      <td>L</td>\n",
       "      <td>Atlantis ar jacket men</td>\n",
       "      <td>2011</td>\n",
       "      <td>2_Good</td>\n",
       "      <td>...</td>\n",
       "      <td>0</td>\n",
       "      <td>0</td>\n",
       "      <td>0</td>\n",
       "      <td>1</td>\n",
       "      <td>0</td>\n",
       "      <td>0</td>\n",
       "      <td>0</td>\n",
       "      <td>0</td>\n",
       "      <td>0</td>\n",
       "      <td>1</td>\n",
       "    </tr>\n",
       "  </tbody>\n",
       "</table>\n",
       "<p>5 rows × 83 columns</p>\n",
       "</div>"
      ],
      "text/plain": [
       "   Column1      Date  Case Number Language    Country  Repairability Index  \\\n",
       "0      153  11/18/19       706419       EN  Australia                   10   \n",
       "1      221  11/26/19       123456       EN  Australia                   10   \n",
       "2      437    1/3/20       727045       EN  Australia                   10   \n",
       "3      376   1/22/20       718354       EN  Australia                    2   \n",
       "4      449    1/6/20       730632       EN  Australia                   10   \n",
       "\n",
       "  Size              Model name  Year General condition  ...  \\\n",
       "0    S  Atlantis ar jacket men  2018            2_Good  ...   \n",
       "1    S  Atlantis ar jacket men  2016            2_Good  ...   \n",
       "2    S    Lazarev jacket women  2014            2_Good  ...   \n",
       "3   XL  Atlantis ar jacket men  2015            2_Good  ...   \n",
       "4    L  Atlantis ar jacket men  2011            2_Good  ...   \n",
       "\n",
       "  typeoffailure_fabric_failureANDconstruction_failure typeoffailure_nofailure  \\\n",
       "0                                                  0                        1   \n",
       "1                                                  0                        0   \n",
       "2                                                  0                        0   \n",
       "3                                                  0                        0   \n",
       "4                                                  0                        0   \n",
       "\n",
       "  misusetype_contaminated misusetype_damaged  \\\n",
       "0                       0                  1   \n",
       "1                       0                  0   \n",
       "2                       0                  0   \n",
       "3                       0                  0   \n",
       "4                       0                  1   \n",
       "\n",
       "  misusetype_damagedandcontaminated misusetype_notmisused Fabric_Down Loft  \\\n",
       "0                                 0                     0                0   \n",
       "1                                 0                     1                0   \n",
       "2                                 0                     1                0   \n",
       "3                                 0                     1                0   \n",
       "4                                 0                     0                0   \n",
       "\n",
       "  Fabric_K Fleece Fabric_WBW 2L Membrane Fabric_WBW 3L Membrane  \n",
       "0               0                      0                      1  \n",
       "1               0                      0                      1  \n",
       "2               0                      0                      1  \n",
       "3               0                      0                      1  \n",
       "4               0                      0                      1  \n",
       "\n",
       "[5 rows x 83 columns]"
      ]
     },
     "execution_count": 27,
     "metadata": {},
     "output_type": "execute_result"
    }
   ],
   "source": [
    "# One hot encoding predictors variables\n",
    "df_onehot = pd.get_dummies(df,columns=['reasonofissue', 'Age','Repair Threshold Status', \n",
    "                                            'typeoffailure', 'misusetype', 'Fabric'])\n",
    "df_onehot.head()"
   ]
  },
  {
   "cell_type": "markdown",
   "metadata": {},
   "source": [
    "To illustrate the effect of the one-hot encoding on the predictors, let's take a look at the \"Fabric\" predictor.\n",
    "\n",
    "\n",
    "<img caption=\"One Hot Encoding\" src=\"Illustrations/OneHotEncoding.png\" style=\"width: auto; height: 100px;\" align=\"left\" >  \n",
    "\n",
    "\n",
    "\n",
    "<br><br><br><br><br><br>The \"Fabric\" variable originaly contains four unique values [Down, Gore, Paclite, Other]. One-hot encoding it results in four new variables, one for each unique value. These new variables are called binary variables because they only contain 0 and 1."
   ]
  },
  {
   "cell_type": "markdown",
   "metadata": {},
   "source": [
    "The label encoding method behaves slightly differently from one-hot encoding. It produces only one new variable where each unique value contained in the variable of origin is encoded as an integer based on the alphabetical order.\n",
    "\n",
    "\n",
    "\n",
    "\n",
    "\n",
    "\n"
   ]
  },
  {
   "cell_type": "markdown",
   "metadata": {},
   "source": [
    "## Spliting the dataset and training the model\n",
    "\n",
    "Now the dataset has been transformed into \"something\" the model can understand (i.e. categorical variables have been transformed into numerical), we need to split it into 2 sets: training and testing.\n",
    "\n",
    "Intuitively the training set will be used to train the model and the testing set will be used to evaluate the performances of the model once trained.\n",
    "\n"
   ]
  },
  {
   "cell_type": "code",
   "execution_count": 28,
   "metadata": {},
   "outputs": [
    {
     "ename": "KeyError",
     "evalue": "\"['Fabric_Gore', 'gsstatus_above', 'Fabric_Down', 'age_20', 'Fabric_Other', 'Fabric_Gore_Paclite', 'gsstatus_below', 'age_9', 'age_8', 'age_1', 'age_0', 'age_3', 'age_2', 'age_5', 'age_4', 'age_7', 'age_6', 'age_11', 'age_10', 'age_13', 'age_12', 'age_15', 'age_14', 'age_17', 'age_16', 'age_19', 'age_18', 'gsstatus_equal'] not in index\"",
     "output_type": "error",
     "traceback": [
      "\u001b[0;31m---------------------------------------------------------------------------\u001b[0m",
      "\u001b[0;31mKeyError\u001b[0m                                  Traceback (most recent call last)",
      "\u001b[0;32m<ipython-input-28-da01086849ba>\u001b[0m in \u001b[0;36m<module>\u001b[0;34m()\u001b[0m\n\u001b[1;32m      1\u001b[0m \u001b[0;31m# Select Features\u001b[0m\u001b[0;34m\u001b[0m\u001b[0;34m\u001b[0m\u001b[0m\n\u001b[1;32m      2\u001b[0m \u001b[0mIndependentVariable\u001b[0m \u001b[0;34m=\u001b[0m \u001b[0;34m[\u001b[0m\u001b[0;34m'reasonofissue_manufacturing_issue'\u001b[0m\u001b[0;34m,\u001b[0m \u001b[0;34m'reasonofissue_manufacturing_issueANDmisuse'\u001b[0m\u001b[0;34m,\u001b[0m \u001b[0;34m'reasonofissue_misuse'\u001b[0m\u001b[0;34m,\u001b[0m \u001b[0;34m'age_0'\u001b[0m\u001b[0;34m,\u001b[0m \u001b[0;34m'age_1'\u001b[0m\u001b[0;34m,\u001b[0m \u001b[0;34m'age_2'\u001b[0m\u001b[0;34m,\u001b[0m \u001b[0;34m'age_3'\u001b[0m\u001b[0;34m,\u001b[0m \u001b[0;34m'age_4'\u001b[0m\u001b[0;34m,\u001b[0m \u001b[0;34m'age_5'\u001b[0m\u001b[0;34m,\u001b[0m \u001b[0;34m'age_6'\u001b[0m\u001b[0;34m,\u001b[0m \u001b[0;34m'age_7'\u001b[0m\u001b[0;34m,\u001b[0m \u001b[0;34m'age_8'\u001b[0m\u001b[0;34m,\u001b[0m \u001b[0;34m'age_9'\u001b[0m\u001b[0;34m,\u001b[0m \u001b[0;34m'age_10'\u001b[0m\u001b[0;34m,\u001b[0m \u001b[0;34m'age_11'\u001b[0m\u001b[0;34m,\u001b[0m \u001b[0;34m'age_12'\u001b[0m\u001b[0;34m,\u001b[0m \u001b[0;34m'age_13'\u001b[0m\u001b[0;34m,\u001b[0m \u001b[0;34m'age_14'\u001b[0m\u001b[0;34m,\u001b[0m \u001b[0;34m'age_15'\u001b[0m\u001b[0;34m,\u001b[0m \u001b[0;34m'age_16'\u001b[0m\u001b[0;34m,\u001b[0m \u001b[0;34m'age_17'\u001b[0m\u001b[0;34m,\u001b[0m \u001b[0;34m'age_18'\u001b[0m\u001b[0;34m,\u001b[0m \u001b[0;34m'age_19'\u001b[0m\u001b[0;34m,\u001b[0m \u001b[0;34m'age_20'\u001b[0m\u001b[0;34m,\u001b[0m \u001b[0;34m'gsstatus_above'\u001b[0m\u001b[0;34m,\u001b[0m \u001b[0;34m'gsstatus_below'\u001b[0m\u001b[0;34m,\u001b[0m \u001b[0;34m'gsstatus_equal'\u001b[0m\u001b[0;34m,\u001b[0m \u001b[0;34m'typeoffailure_construction_failure'\u001b[0m\u001b[0;34m,\u001b[0m \u001b[0;34m'typeoffailure_fabric_failure'\u001b[0m\u001b[0;34m,\u001b[0m \u001b[0;34m'typeoffailure_fabric_failureANDconstruction_failure'\u001b[0m\u001b[0;34m,\u001b[0m \u001b[0;34m'typeoffailure_nofailure'\u001b[0m\u001b[0;34m,\u001b[0m \u001b[0;34m'misusetype_contaminated'\u001b[0m\u001b[0;34m,\u001b[0m \u001b[0;34m'misusetype_damaged'\u001b[0m\u001b[0;34m,\u001b[0m \u001b[0;34m'misusetype_damagedandcontaminated'\u001b[0m\u001b[0;34m,\u001b[0m \u001b[0;34m'misusetype_notmisused'\u001b[0m\u001b[0;34m,\u001b[0m \u001b[0;34m'Fabric_Down'\u001b[0m\u001b[0;34m,\u001b[0m \u001b[0;34m'Fabric_Gore'\u001b[0m\u001b[0;34m,\u001b[0m \u001b[0;34m'Fabric_Gore_Paclite'\u001b[0m\u001b[0;34m,\u001b[0m \u001b[0;34m'Fabric_Other'\u001b[0m\u001b[0;34m]\u001b[0m\u001b[0;34m\u001b[0m\u001b[0m\n\u001b[0;32m----> 3\u001b[0;31m \u001b[0mX\u001b[0m \u001b[0;34m=\u001b[0m \u001b[0mdf_onehot\u001b[0m\u001b[0;34m[\u001b[0m\u001b[0mIndependentVariable\u001b[0m\u001b[0;34m]\u001b[0m \u001b[0;31m# Predictor variables\u001b[0m\u001b[0;34m\u001b[0m\u001b[0m\n\u001b[0m\u001b[1;32m      4\u001b[0m \u001b[0mY\u001b[0m \u001b[0;34m=\u001b[0m \u001b[0mdf_onehot\u001b[0m\u001b[0;34m[\u001b[0m\u001b[0;34m'Customer Offer'\u001b[0m\u001b[0;34m]\u001b[0m \u001b[0;31m# Response variables\u001b[0m\u001b[0;34m\u001b[0m\u001b[0m\n\u001b[1;32m      5\u001b[0m \u001b[0;34m\u001b[0m\u001b[0m\n",
      "\u001b[0;32m/Users/sebastiengrandvallet/opt/anaconda2/lib/python2.7/site-packages/pandas/core/frame.pyc\u001b[0m in \u001b[0;36m__getitem__\u001b[0;34m(self, key)\u001b[0m\n\u001b[1;32m   2932\u001b[0m                 \u001b[0mkey\u001b[0m \u001b[0;34m=\u001b[0m \u001b[0mlist\u001b[0m\u001b[0;34m(\u001b[0m\u001b[0mkey\u001b[0m\u001b[0;34m)\u001b[0m\u001b[0;34m\u001b[0m\u001b[0m\n\u001b[1;32m   2933\u001b[0m             indexer = self.loc._convert_to_indexer(key, axis=1,\n\u001b[0;32m-> 2934\u001b[0;31m                                                    raise_missing=True)\n\u001b[0m\u001b[1;32m   2935\u001b[0m \u001b[0;34m\u001b[0m\u001b[0m\n\u001b[1;32m   2936\u001b[0m         \u001b[0;31m# take() does not accept boolean indexers\u001b[0m\u001b[0;34m\u001b[0m\u001b[0;34m\u001b[0m\u001b[0m\n",
      "\u001b[0;32m/Users/sebastiengrandvallet/opt/anaconda2/lib/python2.7/site-packages/pandas/core/indexing.pyc\u001b[0m in \u001b[0;36m_convert_to_indexer\u001b[0;34m(self, obj, axis, is_setter, raise_missing)\u001b[0m\n\u001b[1;32m   1352\u001b[0m                 kwargs = {'raise_missing': True if is_setter else\n\u001b[1;32m   1353\u001b[0m                           raise_missing}\n\u001b[0;32m-> 1354\u001b[0;31m                 \u001b[0;32mreturn\u001b[0m \u001b[0mself\u001b[0m\u001b[0;34m.\u001b[0m\u001b[0m_get_listlike_indexer\u001b[0m\u001b[0;34m(\u001b[0m\u001b[0mobj\u001b[0m\u001b[0;34m,\u001b[0m \u001b[0maxis\u001b[0m\u001b[0;34m,\u001b[0m \u001b[0;34m**\u001b[0m\u001b[0mkwargs\u001b[0m\u001b[0;34m)\u001b[0m\u001b[0;34m[\u001b[0m\u001b[0;36m1\u001b[0m\u001b[0;34m]\u001b[0m\u001b[0;34m\u001b[0m\u001b[0m\n\u001b[0m\u001b[1;32m   1355\u001b[0m         \u001b[0;32melse\u001b[0m\u001b[0;34m:\u001b[0m\u001b[0;34m\u001b[0m\u001b[0m\n\u001b[1;32m   1356\u001b[0m             \u001b[0;32mtry\u001b[0m\u001b[0;34m:\u001b[0m\u001b[0;34m\u001b[0m\u001b[0m\n",
      "\u001b[0;32m/Users/sebastiengrandvallet/opt/anaconda2/lib/python2.7/site-packages/pandas/core/indexing.pyc\u001b[0m in \u001b[0;36m_get_listlike_indexer\u001b[0;34m(self, key, axis, raise_missing)\u001b[0m\n\u001b[1;32m   1159\u001b[0m         self._validate_read_indexer(keyarr, indexer,\n\u001b[1;32m   1160\u001b[0m                                     \u001b[0mo\u001b[0m\u001b[0;34m.\u001b[0m\u001b[0m_get_axis_number\u001b[0m\u001b[0;34m(\u001b[0m\u001b[0maxis\u001b[0m\u001b[0;34m)\u001b[0m\u001b[0;34m,\u001b[0m\u001b[0;34m\u001b[0m\u001b[0m\n\u001b[0;32m-> 1161\u001b[0;31m                                     raise_missing=raise_missing)\n\u001b[0m\u001b[1;32m   1162\u001b[0m         \u001b[0;32mreturn\u001b[0m \u001b[0mkeyarr\u001b[0m\u001b[0;34m,\u001b[0m \u001b[0mindexer\u001b[0m\u001b[0;34m\u001b[0m\u001b[0m\n\u001b[1;32m   1163\u001b[0m \u001b[0;34m\u001b[0m\u001b[0m\n",
      "\u001b[0;32m/Users/sebastiengrandvallet/opt/anaconda2/lib/python2.7/site-packages/pandas/core/indexing.pyc\u001b[0m in \u001b[0;36m_validate_read_indexer\u001b[0;34m(self, key, indexer, axis, raise_missing)\u001b[0m\n\u001b[1;32m   1250\u001b[0m             \u001b[0;32mif\u001b[0m \u001b[0;32mnot\u001b[0m\u001b[0;34m(\u001b[0m\u001b[0mself\u001b[0m\u001b[0;34m.\u001b[0m\u001b[0mname\u001b[0m \u001b[0;34m==\u001b[0m \u001b[0;34m'loc'\u001b[0m \u001b[0;32mand\u001b[0m \u001b[0;32mnot\u001b[0m \u001b[0mraise_missing\u001b[0m\u001b[0;34m)\u001b[0m\u001b[0;34m:\u001b[0m\u001b[0;34m\u001b[0m\u001b[0m\n\u001b[1;32m   1251\u001b[0m                 \u001b[0mnot_found\u001b[0m \u001b[0;34m=\u001b[0m \u001b[0mlist\u001b[0m\u001b[0;34m(\u001b[0m\u001b[0mset\u001b[0m\u001b[0;34m(\u001b[0m\u001b[0mkey\u001b[0m\u001b[0;34m)\u001b[0m \u001b[0;34m-\u001b[0m \u001b[0mset\u001b[0m\u001b[0;34m(\u001b[0m\u001b[0max\u001b[0m\u001b[0;34m)\u001b[0m\u001b[0;34m)\u001b[0m\u001b[0;34m\u001b[0m\u001b[0m\n\u001b[0;32m-> 1252\u001b[0;31m                 \u001b[0;32mraise\u001b[0m \u001b[0mKeyError\u001b[0m\u001b[0;34m(\u001b[0m\u001b[0;34m\"{} not in index\"\u001b[0m\u001b[0;34m.\u001b[0m\u001b[0mformat\u001b[0m\u001b[0;34m(\u001b[0m\u001b[0mnot_found\u001b[0m\u001b[0;34m)\u001b[0m\u001b[0;34m)\u001b[0m\u001b[0;34m\u001b[0m\u001b[0m\n\u001b[0m\u001b[1;32m   1253\u001b[0m \u001b[0;34m\u001b[0m\u001b[0m\n\u001b[1;32m   1254\u001b[0m             \u001b[0;31m# we skip the warning on Categorical/Interval\u001b[0m\u001b[0;34m\u001b[0m\u001b[0;34m\u001b[0m\u001b[0m\n",
      "\u001b[0;31mKeyError\u001b[0m: \"['Fabric_Gore', 'gsstatus_above', 'Fabric_Down', 'age_20', 'Fabric_Other', 'Fabric_Gore_Paclite', 'gsstatus_below', 'age_9', 'age_8', 'age_1', 'age_0', 'age_3', 'age_2', 'age_5', 'age_4', 'age_7', 'age_6', 'age_11', 'age_10', 'age_13', 'age_12', 'age_15', 'age_14', 'age_17', 'age_16', 'age_19', 'age_18', 'gsstatus_equal'] not in index\""
     ]
    }
   ],
   "source": [
    "# DECISION TREE PACKAGES\n",
    "from sklearn.model_selection import train_test_split\n",
    "from sklearn.tree import DecisionTreeClassifier\n",
    "from sklearn import metrics\n",
    "\n",
    "\n",
    "# Select Features\n",
    "IndependentVariable = ['reasonofissue_manufacturing_issue', 'reasonofissue_manufacturing_issueANDmisuse', 'reasonofissue_misuse', 'age_0', 'age_1', 'age_2', 'age_3', 'age_4', 'age_5', 'age_6', 'age_7', 'age_8', 'age_9', 'age_10', 'age_11', 'age_12', 'age_13', 'age_14', 'age_15', 'age_16', 'age_17', 'age_18', 'age_19', 'age_20', 'gsstatus_above', 'gsstatus_below', 'gsstatus_equal', 'typeoffailure_construction_failure', 'typeoffailure_fabric_failure', 'typeoffailure_fabric_failureANDconstruction_failure', 'typeoffailure_nofailure', 'misusetype_contaminated', 'misusetype_damaged', 'misusetype_damagedandcontaminated', 'misusetype_notmisused', 'Fabric_Down', 'Fabric_Gore', 'Fabric_Gore_Paclite', 'Fabric_Other']\n",
    "X = df_onehot[IndependentVariable] # Predictor variables\n",
    "Y = df_onehot['Customer Offer'] # Response variables\n",
    "\n",
    "# Split Data Training/Testing\n",
    "X_train, X_test, y_train, y_test = train_test_split(X, Y, test_size = 0.20, random_state=42, stratify=Y) \n",
    "\n",
    "# Create Decision Tree\n",
    "clf = DecisionTreeClassifier(criterion = \"gini\", random_state = 12, max_depth=4)\n",
    "\n",
    "# Train Model\n",
    "clf = clf.fit(X_train, y_train)\n",
    "\n",
    "# Predict response for X_test\n",
    "y_pred = clf.predict(X_test)\n",
    "\n",
    "# accuracy1 = metrics.accuracy_score(y_test, y_pred)\n",
    "accuracy2 = clf.score(X_test, y_test)\n",
    "\n",
    "# print X_train\n",
    "print \"Sample size: \", df[\"RA number\"].size\n",
    "print \"Accuracy1: \",accuracy1,\"\\n\", \"Accuracy2: \",accuracy2\n"
   ]
  },
  {
   "cell_type": "code",
   "execution_count": 209,
   "metadata": {},
   "outputs": [
    {
     "data": {
      "text/plain": [
       "array([2, 1, 2, 2], dtype=int8)"
      ]
     },
     "execution_count": 209,
     "metadata": {},
     "output_type": "execute_result"
    }
   ],
   "source": [
    "raselection = [701315, 584778, 703022, 702370]\n",
    "input = df_onehot[df_onehot[\"RA number\"].isin(raselection)][IndependentVariable]\n",
    "input\n",
    "df_onehot[\"SolutionCSRCat\"].astype('category').cat.categories[2]\n",
    "\n",
    "clf.predict(input)"
   ]
  },
  {
   "cell_type": "markdown",
   "metadata": {},
   "source": [
    "## Visualizing the Decision Tree"
   ]
  },
  {
   "cell_type": "code",
   "execution_count": 210,
   "metadata": {},
   "outputs": [
    {
     "data": {
      "text/plain": [
       "True"
      ]
     },
     "execution_count": 210,
     "metadata": {},
     "output_type": "execute_result"
    }
   ],
   "source": [
    "# Create a graph and export it\n",
    "from sklearn.externals.six import StringIO  \n",
    "from IPython.display import Image  \n",
    "from sklearn.tree import export_graphviz\n",
    "import pydotplus\n",
    "\n",
    "data_features_name = ['age', 'reasonofissue_manufacturing_issue', \n",
    "                    'reasonofissue_manufacturing_issueANDmisuse', 'reasonofissue_misuse', \n",
    "                    'gsstatus_above', 'gsstatus_below', 'gsstatus_equal', 'typeoffailure_construction_failure', \n",
    "                    'typeoffailure_fabric_failure', 'typeoffailure_fabric_failureANDconstruction_failure', \n",
    "                    'typeoffailure_nofailure', 'misusetype_contaminated', 'misusetype_damaged', \n",
    "                    'misusetype_damagedandcontaminated', 'misusetype_notmisused']\n",
    "target_features_names = ['racor', 'repair', 'replace', 'wso']\n",
    "\n",
    "\n",
    "dot_data = StringIO()\n",
    "export_graphviz(clf, out_file=dot_data,  \n",
    "                filled=True, rounded=True,\n",
    "                special_characters=True,\n",
    "                feature_names=IndependentVariable,\n",
    "                class_names=target_features_names)\n",
    "\n",
    "graph = pydotplus.graph_from_dot_data(dot_data.getvalue())  \n",
    "Image(graph.create_png())\n",
    "\n",
    "# Create PNG\n",
    "graph.write_png(\"/Users/sebastiengrandvallet/Google Drive/3.RemDesk/ArcSess/ArcSess_Phase2/df_onehot_decision_tree_python.png\")"
   ]
  },
  {
   "cell_type": "markdown",
   "metadata": {},
   "source": [
    "Field involve in the decision making process are:\n",
    "Discrepency oserve on the garment:\n",
    "\n",
    "<img caption=\"Grey Area\" src=\"df_onehot_decision_tree_python.png\" style=\"width: auto; height: 400px;\" align=\"left\" > "
   ]
  },
  {
   "cell_type": "markdown",
   "metadata": {},
   "source": [
    "## Decision Tree \"Under the Hood\""
   ]
  },
  {
   "cell_type": "markdown",
   "metadata": {},
   "source": [
    "The logic behind a Decision Tree is based on one central question: \"Among all the features available which one should be used to create a split?\"\n",
    "\n",
    "Information gain method used, two criterion are widely used \n",
    "\n",
    "There are two popular methodologies to answer that question:\n",
    "- <b>Gini Impurity</b>\n",
    "- <b>Information Gain</b>\n",
    "\n",
    "Both lead to similar dicision tree\n",
    "\n",
    "\n"
   ]
  },
  {
   "cell_type": "markdown",
   "metadata": {},
   "source": [
    "### I Love Fruits"
   ]
  },
  {
   "cell_type": "markdown",
   "metadata": {},
   "source": [
    "Let's illustrate how decision trees are working with a simple example.\n",
    "\n",
    "\n",
    "\n",
    "\n"
   ]
  },
  {
   "cell_type": "code",
   "execution_count": 278,
   "metadata": {
    "scrolled": true
   },
   "outputs": [
    {
     "data": {
      "text/html": [
       "<div>\n",
       "<style scoped>\n",
       "    .dataframe tbody tr th:only-of-type {\n",
       "        vertical-align: middle;\n",
       "    }\n",
       "\n",
       "    .dataframe tbody tr th {\n",
       "        vertical-align: top;\n",
       "    }\n",
       "\n",
       "    .dataframe thead th {\n",
       "        text-align: right;\n",
       "    }\n",
       "</style>\n",
       "<table border=\"1\" class=\"dataframe\">\n",
       "  <thead>\n",
       "    <tr style=\"text-align: right;\">\n",
       "      <th></th>\n",
       "      <th>Fruit</th>\n",
       "      <th>Color</th>\n",
       "      <th>Pit or Pip</th>\n",
       "      <th>Individual or Bunch</th>\n",
       "    </tr>\n",
       "  </thead>\n",
       "  <tbody>\n",
       "    <tr>\n",
       "      <th>0</th>\n",
       "      <td>Cherry</td>\n",
       "      <td>Red</td>\n",
       "      <td>Pit</td>\n",
       "      <td>Bunch</td>\n",
       "    </tr>\n",
       "    <tr>\n",
       "      <th>1</th>\n",
       "      <td>Grape</td>\n",
       "      <td>Purple</td>\n",
       "      <td>Pip</td>\n",
       "      <td>Bunch</td>\n",
       "    </tr>\n",
       "    <tr>\n",
       "      <th>2</th>\n",
       "      <td>Green Apple</td>\n",
       "      <td>Green</td>\n",
       "      <td>Pip</td>\n",
       "      <td>Individual</td>\n",
       "    </tr>\n",
       "    <tr>\n",
       "      <th>3</th>\n",
       "      <td>Red Apple</td>\n",
       "      <td>Red</td>\n",
       "      <td>Pip</td>\n",
       "      <td>Individual</td>\n",
       "    </tr>\n",
       "    <tr>\n",
       "      <th>4</th>\n",
       "      <td>Cherry</td>\n",
       "      <td>Red</td>\n",
       "      <td>Pit</td>\n",
       "      <td>Bunch</td>\n",
       "    </tr>\n",
       "  </tbody>\n",
       "</table>\n",
       "</div>"
      ],
      "text/plain": [
       "         Fruit   Color Pit or Pip Individual or Bunch\n",
       "0       Cherry     Red        Pit               Bunch\n",
       "1        Grape  Purple        Pip               Bunch\n",
       "2  Green Apple   Green        Pip          Individual\n",
       "3    Red Apple     Red        Pip          Individual\n",
       "4       Cherry     Red        Pit               Bunch"
      ]
     },
     "execution_count": 278,
     "metadata": {},
     "output_type": "execute_result"
    }
   ],
   "source": [
    "import pandas as pd\n",
    "from sklearn.model_selection import train_test_split\n",
    "from sklearn.tree import DecisionTreeClassifier \n",
    "from sklearn import metrics\n",
    "\n",
    "# Import RA listing\n",
    "fruitsset = pd.read_csv(\"/Users/sebastiengrandvallet/Google Drive/3.RemDesk/ArcSess/ArcSess_Phase2/FruitsSet.csv\", delimiter=';')\n",
    "\n",
    "fruitsset.head()\n"
   ]
  },
  {
   "cell_type": "code",
   "execution_count": null,
   "metadata": {},
   "outputs": [],
   "source": []
  },
  {
   "cell_type": "code",
   "execution_count": 279,
   "metadata": {},
   "outputs": [
    {
     "data": {
      "text/html": [
       "<div>\n",
       "<style scoped>\n",
       "    .dataframe tbody tr th:only-of-type {\n",
       "        vertical-align: middle;\n",
       "    }\n",
       "\n",
       "    .dataframe tbody tr th {\n",
       "        vertical-align: top;\n",
       "    }\n",
       "\n",
       "    .dataframe thead th {\n",
       "        text-align: right;\n",
       "    }\n",
       "</style>\n",
       "<table border=\"1\" class=\"dataframe\">\n",
       "  <thead>\n",
       "    <tr style=\"text-align: right;\">\n",
       "      <th></th>\n",
       "      <th>Fruit</th>\n",
       "      <th>Color_Green</th>\n",
       "      <th>Color_Purple</th>\n",
       "      <th>Color_Red</th>\n",
       "      <th>Pit or Pip_Pip</th>\n",
       "      <th>Pit or Pip_Pit</th>\n",
       "      <th>Individual or Bunch_Bunch</th>\n",
       "      <th>Individual or Bunch_Individual</th>\n",
       "    </tr>\n",
       "  </thead>\n",
       "  <tbody>\n",
       "    <tr>\n",
       "      <th>0</th>\n",
       "      <td>Cherry</td>\n",
       "      <td>0</td>\n",
       "      <td>0</td>\n",
       "      <td>1</td>\n",
       "      <td>0</td>\n",
       "      <td>1</td>\n",
       "      <td>1</td>\n",
       "      <td>0</td>\n",
       "    </tr>\n",
       "    <tr>\n",
       "      <th>1</th>\n",
       "      <td>Grape</td>\n",
       "      <td>0</td>\n",
       "      <td>1</td>\n",
       "      <td>0</td>\n",
       "      <td>1</td>\n",
       "      <td>0</td>\n",
       "      <td>1</td>\n",
       "      <td>0</td>\n",
       "    </tr>\n",
       "    <tr>\n",
       "      <th>2</th>\n",
       "      <td>Green Apple</td>\n",
       "      <td>1</td>\n",
       "      <td>0</td>\n",
       "      <td>0</td>\n",
       "      <td>1</td>\n",
       "      <td>0</td>\n",
       "      <td>0</td>\n",
       "      <td>1</td>\n",
       "    </tr>\n",
       "    <tr>\n",
       "      <th>3</th>\n",
       "      <td>Red Apple</td>\n",
       "      <td>0</td>\n",
       "      <td>0</td>\n",
       "      <td>1</td>\n",
       "      <td>1</td>\n",
       "      <td>0</td>\n",
       "      <td>0</td>\n",
       "      <td>1</td>\n",
       "    </tr>\n",
       "    <tr>\n",
       "      <th>4</th>\n",
       "      <td>Cherry</td>\n",
       "      <td>0</td>\n",
       "      <td>0</td>\n",
       "      <td>1</td>\n",
       "      <td>0</td>\n",
       "      <td>1</td>\n",
       "      <td>1</td>\n",
       "      <td>0</td>\n",
       "    </tr>\n",
       "  </tbody>\n",
       "</table>\n",
       "</div>"
      ],
      "text/plain": [
       "         Fruit  Color_Green  Color_Purple  Color_Red  Pit or Pip_Pip  \\\n",
       "0       Cherry            0             0          1               0   \n",
       "1        Grape            0             1          0               1   \n",
       "2  Green Apple            1             0          0               1   \n",
       "3    Red Apple            0             0          1               1   \n",
       "4       Cherry            0             0          1               0   \n",
       "\n",
       "   Pit or Pip_Pit  Individual or Bunch_Bunch  Individual or Bunch_Individual  \n",
       "0               1                          1                               0  \n",
       "1               0                          1                               0  \n",
       "2               0                          0                               1  \n",
       "3               0                          0                               1  \n",
       "4               1                          1                               0  "
      ]
     },
     "execution_count": 279,
     "metadata": {},
     "output_type": "execute_result"
    }
   ],
   "source": [
    "fruitssetdum = pd.get_dummies(fruitsset, columns=[\"Color\", \"Pit or Pip\", \"Individual or Bunch\"])\n",
    "fruitssetdum.head()"
   ]
  },
  {
   "cell_type": "code",
   "execution_count": 284,
   "metadata": {},
   "outputs": [
    {
     "data": {
      "text/plain": [
       "['Fruit',\n",
       " 'Color_Green',\n",
       " 'Color_Purple',\n",
       " 'Color_Red',\n",
       " 'Pit or Pip_Pip',\n",
       " 'Pit or Pip_Pit',\n",
       " 'Individual or Bunch_Bunch',\n",
       " 'Individual or Bunch_Individual']"
      ]
     },
     "execution_count": 284,
     "metadata": {},
     "output_type": "execute_result"
    }
   ],
   "source": [
    "# Get the list of column names\n",
    "fruitssetdum.columns.tolist()"
   ]
  },
  {
   "cell_type": "code",
   "execution_count": 320,
   "metadata": {},
   "outputs": [
    {
     "data": {
      "text/plain": [
       "Fruit\n",
       "Cherry          7\n",
       "Grape          10\n",
       "Green Apple     5\n",
       "Red Apple       4\n",
       "Name: Fruit, dtype: int64"
      ]
     },
     "execution_count": 320,
     "metadata": {},
     "output_type": "execute_result"
    }
   ],
   "source": [
    "Summary = fruitssetdum.groupby(\"Fruit\")[\"Fruit\"].count()\n",
    "Summary"
   ]
  },
  {
   "cell_type": "code",
   "execution_count": 321,
   "metadata": {},
   "outputs": [
    {
     "data": {
      "text/plain": [
       "['Cherry', 'Grape', 'Green Apple', 'Red Apple']"
      ]
     },
     "execution_count": 321,
     "metadata": {},
     "output_type": "execute_result"
    }
   ],
   "source": [
    "Summary.index.tolist()"
   ]
  },
  {
   "cell_type": "code",
   "execution_count": 287,
   "metadata": {},
   "outputs": [],
   "source": [
    "\n",
    "# Define predictor and response variables\n",
    "predictor = ['Color_Green',\n",
    " 'Color_Purple',\n",
    " 'Color_Red',\n",
    " 'Pit or Pip_Pip',\n",
    " 'Pit or Pip_Pit',\n",
    " 'Individual or Bunch_Bunch',\n",
    " 'Individual or Bunch_Individual']\n",
    "response = ['Fruit']\n",
    "X = fruitssetdum[predictor]\n",
    "Y = fruitssetdum[response]\n",
    "\n",
    "\n",
    "clffruit = DecisionTreeClassifier(criterion=\"gini\", random_state=0)\n",
    "clffruit = clf.fit(X, Y)"
   ]
  },
  {
   "cell_type": "code",
   "execution_count": 318,
   "metadata": {},
   "outputs": [
    {
     "data": {
      "text/plain": [
       "True"
      ]
     },
     "execution_count": 318,
     "metadata": {},
     "output_type": "execute_result"
    }
   ],
   "source": [
    "# Create a graph and export it\n",
    "from sklearn.externals.six import StringIO  \n",
    "from IPython.display import Image  \n",
    "from sklearn.tree import export_graphviz\n",
    "import pydotplus\n",
    "\n",
    "fruitsfeatures = ['Color_Green',\n",
    "     'Color_Purple',\n",
    "     'Color_Red',\n",
    "     'Pit or Pip_Pip',\n",
    "     'Pit or Pip_Pit',\n",
    "     'Individual or Bunch_Bunch',\n",
    "     'Individual or Bunch_Individual']\n",
    "fruitclasses = ['Cherry', 'Grape', 'Green Apple', 'Red Apple']\n",
    "\n",
    "\n",
    "dot_data = StringIO()\n",
    "export_graphviz(clffruits, out_file=dot_data,  \n",
    "                filled=True, rounded=True,\n",
    "                special_characters=True,\n",
    "                feature_names=fruitsfeatures,\n",
    "                class_names=fruitclasses)\n",
    "\n",
    "graph = pydotplus.graph_from_dot_data(dot_data.getvalue())  \n",
    "Image(graph.create_png())\n",
    "\n",
    "# Create PNG\n",
    "graph.write_png(\"/Users/sebastiengrandvallet/Google Drive/3.RemDesk/ArcSess/ArcSess_Phase2/FruitDecisionTree.png\")\n",
    "\n"
   ]
  },
  {
   "cell_type": "markdown",
   "metadata": {},
   "source": [
    "FruitDecisionTree\n",
    "\n",
    "\n",
    "<img caption=\"Business Process\" src=\"FruitDecisionTree.png\" style=\"width: auto; height: 400px;\" align=\"center\" > "
   ]
  },
  {
   "cell_type": "markdown",
   "metadata": {},
   "source": [
    "### Mathematical Explanation"
   ]
  },
  {
   "cell_type": "markdown",
   "metadata": {},
   "source": [
    "Information gain is the difference between the Gini Impurity of the parent node and the weighted average of the  child nodes created (two in case of a binary \n",
    "\n",
    "finding best split point equivalent to finding the best job at isolating one class from the others."
   ]
  },
  {
   "cell_type": "code",
   "execution_count": null,
   "metadata": {},
   "outputs": [],
   "source": []
  },
  {
   "cell_type": "code",
   "execution_count": null,
   "metadata": {},
   "outputs": [],
   "source": []
  },
  {
   "cell_type": "code",
   "execution_count": null,
   "metadata": {},
   "outputs": [],
   "source": []
  },
  {
   "cell_type": "code",
   "execution_count": null,
   "metadata": {},
   "outputs": [],
   "source": []
  },
  {
   "cell_type": "markdown",
   "metadata": {},
   "source": [
    "<b>Sources</b>\n",
    "\n",
    "https://www.investopedia.com/terms/a/aftersales-support.asp <br>\n",
    "https://www.linkedin.com/pulse/20140518182546-3995896-why-do-your-call-center-agents-quit/\n",
    "\n",
    "\n",
    " "
   ]
  },
  {
   "cell_type": "markdown",
   "metadata": {},
   "source": [
    "Ideas\n",
    "\n",
    "Assumptions data set already cleaned (not dobloon, no missing values)\n",
    "use only shell\n",
    "\n",
    "\n",
    "\n",
    "\n",
    "\n"
   ]
  }
 ],
 "metadata": {
  "kernelspec": {
   "display_name": "Python 2",
   "language": "python",
   "name": "python2"
  },
  "language_info": {
   "codemirror_mode": {
    "name": "ipython",
    "version": 2
   },
   "file_extension": ".py",
   "mimetype": "text/x-python",
   "name": "python",
   "nbconvert_exporter": "python",
   "pygments_lexer": "ipython2",
   "version": "2.7.16"
  },
  "toc": {
   "base_numbering": 1,
   "nav_menu": {},
   "number_sections": true,
   "sideBar": true,
   "skip_h1_title": false,
   "title_cell": "Table of Contents",
   "title_sidebar": "Contents",
   "toc_cell": false,
   "toc_position": {
    "height": "calc(100% - 180px)",
    "left": "10px",
    "top": "150px",
    "width": "228px"
   },
   "toc_section_display": true,
   "toc_window_display": true
  }
 },
 "nbformat": 4,
 "nbformat_minor": 2
}
