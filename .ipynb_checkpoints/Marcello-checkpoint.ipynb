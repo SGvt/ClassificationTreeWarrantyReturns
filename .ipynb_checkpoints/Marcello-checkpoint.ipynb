{
 "cells": [
  {
   "cell_type": "code",
   "execution_count": 1,
   "metadata": {},
   "outputs": [
    {
     "name": "stdout",
     "output_type": "stream",
     "text": [
      "<class 'pandas.core.frame.DataFrame'>\n",
      "RangeIndex: 727 entries, 0 to 726\n",
      "Data columns (total 57 columns):\n",
      "Unnamed: 0                                          727 non-null int64\n",
      "Date                                                727 non-null object\n",
      "RA number                                           727 non-null int64\n",
      "Language                                            714 non-null object\n",
      "Country                                             714 non-null object\n",
      "Item number                                         727 non-null int64\n",
      "PO/WO                                               61 non-null object\n",
      "gs_reference                                        727 non-null int64\n",
      "Size                                                726 non-null object\n",
      "Model name                                          727 non-null object\n",
      "SKU                                                 22 non-null float64\n",
      "Year                                                727 non-null int64\n",
      "Initial_issue                                       708 non-null object\n",
      "General condition                                   727 non-null object\n",
      "Wash                                                714 non-null object\n",
      "Fabric                                              727 non-null object\n",
      "Fabric failure - Gore delamination                  228 non-null object\n",
      "Fabric failure - Leak through                       16 non-null object\n",
      "Fabric failure - Wetting out                        5 non-null object\n",
      "Fabric failure - Down leakage                       21 non-null object\n",
      "Fabric failure - Fading                             3 non-null object\n",
      "Fabric failure - Pilling                            5 non-null object\n",
      "Fabric torn - Rips - Patchable                      13 non-null object\n",
      "Fabric torn - Rips - Not patchable - 1 panel        88 non-null object\n",
      "Fabric torn - Rips - Not patchable - X panels       32 non-null object\n",
      "Fabric torn - Abrasion - Light                      58 non-null object\n",
      "Fabric torn - Abrasion - Heavy - 1 panel            34 non-null object\n",
      "Fabric torn - Abrasion - Heavy - X panels           13 non-null object\n",
      "Fabric torn - Burn - Patchable -                    0 non-null float64\n",
      "Fabric torn - Burn - Not patchable - 1 panel        12 non-null object\n",
      "Fabric torn - Burn - Not patchable - X panels       2 non-null object\n",
      "Fabric torn - Stain                                 51 non-null object\n",
      "Fabric torn - Gore contamination - Light            49 non-null object\n",
      "Fabric torn - Gore contamination - Heavy            63 non-null object\n",
      "Zipper failure - Zipper structureMain               203 non-null object\n",
      "Zipper failure - Zipper structureAll except main    26 non-null object\n",
      "Zipper failure - Zipper slider                      80 non-null object\n",
      "Delamination - Press                                334 non-null object\n",
      "Delamination - 70D                                  329 non-null object\n",
      "Delamination - Seam tape                            292 non-null object\n",
      "Seam failure - Seam sewn non-Goretex                24 non-null object\n",
      "Delamination - Seam sewn Goretex                    2 non-null object\n",
      "Delamination - Seam laminated                       0 non-null float64\n",
      "Other - Buckle                                      16 non-null object\n",
      "Known_issue                                         727 non-null object\n",
      "Repair solution                                     727 non-null object\n",
      "Garment score                                       727 non-null int64\n",
      "Solution algo                                       726 non-null object\n",
      "Garment score CSR                                   18 non-null float64\n",
      "Solution CSR                                        727 non-null object\n",
      "Test                                                727 non-null object\n",
      "garment_type                                        727 non-null object\n",
      "reasonofissue                                       725 non-null object\n",
      "age                                                 727 non-null int64\n",
      "gsstatus                                            727 non-null object\n",
      "typeoffailure                                       727 non-null object\n",
      "misusetype                                          727 non-null object\n",
      "dtypes: float64(4), int64(7), object(46)\n",
      "memory usage: 323.8+ KB\n"
     ]
    }
   ],
   "source": [
    "import pandas as pd\n",
    "df = pd.read_csv(\"/Users/sebastiengrandvallet/Google Drive/3.RemDesk/ArcSess/ArcSess_Phase2/df_decisiontree_raw.csv\", delimiter=';')\n",
    "df.info()"
   ]
  },
  {
   "cell_type": "code",
   "execution_count": null,
   "metadata": {},
   "outputs": [],
   "source": []
  },
  {
   "cell_type": "code",
   "execution_count": null,
   "metadata": {},
   "outputs": [],
   "source": []
  },
  {
   "cell_type": "code",
   "execution_count": null,
   "metadata": {},
   "outputs": [],
   "source": []
  },
  {
   "cell_type": "code",
   "execution_count": null,
   "metadata": {},
   "outputs": [],
   "source": []
  },
  {
   "cell_type": "code",
   "execution_count": null,
   "metadata": {},
   "outputs": [],
   "source": []
  }
 ],
 "metadata": {
  "kernelspec": {
   "display_name": "Python 2",
   "language": "python",
   "name": "python2"
  },
  "language_info": {
   "codemirror_mode": {
    "name": "ipython",
    "version": 2
   },
   "file_extension": ".py",
   "mimetype": "text/x-python",
   "name": "python",
   "nbconvert_exporter": "python",
   "pygments_lexer": "ipython2",
   "version": "2.7.16"
  },
  "toc": {
   "base_numbering": 1,
   "nav_menu": {},
   "number_sections": true,
   "sideBar": true,
   "skip_h1_title": false,
   "title_cell": "Table of Contents",
   "title_sidebar": "Contents",
   "toc_cell": false,
   "toc_position": {},
   "toc_section_display": true,
   "toc_window_display": false
  }
 },
 "nbformat": 4,
 "nbformat_minor": 2
}
